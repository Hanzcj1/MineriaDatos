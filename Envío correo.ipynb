{
 "cells": [
  {
   "cell_type": "code",
   "execution_count": null,
   "id": "cd1f3828",
   "metadata": {},
   "outputs": [
    {
     "name": "stdout",
     "output_type": "stream",
     "text": [
      "Correo enviado con éxito 🥳\n",
      "Correo enviado con éxito 🥳\n",
      "Correo enviado con éxito 🥳\n",
      "Correo enviado con éxito 🥳\n",
      "Correo enviado con éxito 🥳\n",
      "Correo enviado con éxito 🥳\n",
      "Correo enviado con éxito 🥳\n"
     ]
    }
   ],
   "source": [
    "import time\n",
    "import smtplib\n",
    "from email.mime.multipart import MIMEMultipart\n",
    "from email.mime.text import MIMEText\n",
    "\n",
    "def enviar_correo():\n",
    "    # Configuración\n",
    "    smtp_server = 'smtp.gmail.com'\n",
    "    smtp_port = 587\n",
    "    email_remitente = 'melochupanratas@gmail.com'\n",
    "    password = 'qpgx qtma epzw cuqo'\n",
    "    email_destinatario = 'infotalento.manpowergroup@gmail.com'\n",
    "    \n",
    "    # Crear mensaje multipart/alternative para texto y HTML\n",
    "    mensaje = MIMEMultipart('alternative')\n",
    "    mensaje['From'] = email_remitente\n",
    "    mensaje['To'] = email_destinatario\n",
    "    mensaje['Subject'] = 'Saludos RATAS '\n",
    "    mensaje['Reply-To'] = email_remitente  # Para donde responder\n",
    "    \n",
    "    # Texto plano para clientes que no carguen HTML\n",
    "    texto_plano = \"\"\"\n",
    "    Holis ratas,\n",
    "\n",
    "    Aquí te envío una imagen que puedes ver si tienes soporte HTML en tu correo.\n",
    "    \"\"\"\n",
    "    \n",
    "    # HTML con imagen externa\n",
    "    html = \"\"\"\n",
    "    <html>\n",
    "      <body>\n",
    "        <h2>Holis ratas</h2>\n",
    "        <p>RATAS RATAS RATAS</p>\n",
    "        <img src=\"https://i.imgur.com/X3JfuBI.jpeg\" alt=\"Imagen dedo\" style=\"max-width:600px;\">\n",
    "        <p>Saludos cordiales.</p>\n",
    "      </body>\n",
    "    </html>\n",
    "    \"\"\"\n",
    "    \n",
    "    # Adjuntar ambas partes al mensaje\n",
    "    mensaje.attach(MIMEText(texto_plano, 'plain'))\n",
    "    mensaje.attach(MIMEText(html, 'html'))\n",
    "    \n",
    "    try:\n",
    "        servidor = smtplib.SMTP(smtp_server, smtp_port)\n",
    "        servidor.starttls()\n",
    "        servidor.login(email_remitente, password)\n",
    "        servidor.send_message(mensaje)\n",
    "        servidor.quit()\n",
    "        print(\"Correo enviado con éxito 🥳\")\n",
    "    except Exception as e:\n",
    "        print(f\"Error al enviar el correo: {e}\")\n",
    "\n",
    "# Enviar cada 5 minutos\n",
    "while True:\n",
    "    enviar_correo()\n",
    "    time.sleep(30)  # 5 minutos en segundos\n"
   ]
  }
 ],
 "metadata": {
  "kernelspec": {
   "display_name": "base",
   "language": "python",
   "name": "python3"
  },
  "language_info": {
   "codemirror_mode": {
    "name": "ipython",
    "version": 3
   },
   "file_extension": ".py",
   "mimetype": "text/x-python",
   "name": "python",
   "nbconvert_exporter": "python",
   "pygments_lexer": "ipython3",
   "version": "3.12.7"
  }
 },
 "nbformat": 4,
 "nbformat_minor": 5
}
