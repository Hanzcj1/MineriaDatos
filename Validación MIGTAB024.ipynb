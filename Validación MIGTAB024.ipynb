{
 "cells": [
  {
   "cell_type": "code",
   "execution_count": 2,
   "id": "04a43410",
   "metadata": {},
   "outputs": [
    {
     "name": "stderr",
     "output_type": "stream",
     "text": [
      "C:\\Users\\GTC-88\\AppData\\Local\\Temp\\ipykernel_18256\\896798113.py:3: DtypeWarning: Columns (5) have mixed types. Specify dtype option on import or set low_memory=False.\n",
      "  df_18 = pd.read_csv('../MIGTABO24X.csv',sep=\"|\",header=None)\n"
     ]
    }
   ],
   "source": [
    "import pandas as pd\n",
    "\n",
    "df_18 = pd.read_csv('../MIGTABO24X.csv',sep=\"|\",header=None)\n",
    "df_columns_18 = pd.read_csv('Campos MIGTAB024.csv',sep=\";\")\n",
    "df_18.columns = df_columns_18['NombreColumna'].tolist()\n",
    "\n",
    "pd.set_option('display.max_rows', None)\n",
    "pd.set_option('display.max_columns', None)\n",
    "pd.set_option('display.expand_frame_repr', False)"
   ]
  },
  {
   "cell_type": "code",
   "execution_count": 6,
   "id": "7241069f",
   "metadata": {},
   "outputs": [
    {
     "data": {
      "text/plain": [
       "(7, 2)"
      ]
     },
     "execution_count": 6,
     "metadata": {},
     "output_type": "execute_result"
    }
   ],
   "source": [
    "df_columns_18.shape"
   ]
  },
  {
   "cell_type": "code",
   "execution_count": 4,
   "id": "c1391d00",
   "metadata": {},
   "outputs": [
    {
     "data": {
      "text/html": [
       "<div>\n",
       "<style scoped>\n",
       "    .dataframe tbody tr th:only-of-type {\n",
       "        vertical-align: middle;\n",
       "    }\n",
       "\n",
       "    .dataframe tbody tr th {\n",
       "        vertical-align: top;\n",
       "    }\n",
       "\n",
       "    .dataframe thead th {\n",
       "        text-align: right;\n",
       "    }\n",
       "</style>\n",
       "<table border=\"1\" class=\"dataframe\">\n",
       "  <thead>\n",
       "    <tr style=\"text-align: right;\">\n",
       "      <th></th>\n",
       "      <th>NombreColumna</th>\n",
       "      <th>Obligatorio</th>\n",
       "    </tr>\n",
       "  </thead>\n",
       "  <tbody>\n",
       "    <tr>\n",
       "      <th>0</th>\n",
       "      <td>da_operacion</td>\n",
       "      <td>S</td>\n",
       "    </tr>\n",
       "    <tr>\n",
       "      <th>1</th>\n",
       "      <td>da_nemonico</td>\n",
       "      <td>S</td>\n",
       "    </tr>\n",
       "    <tr>\n",
       "      <th>2</th>\n",
       "      <td>da_int</td>\n",
       "      <td>N</td>\n",
       "    </tr>\n",
       "    <tr>\n",
       "      <th>3</th>\n",
       "      <td>da_currency</td>\n",
       "      <td>N</td>\n",
       "    </tr>\n",
       "    <tr>\n",
       "      <th>4</th>\n",
       "      <td>da_float</td>\n",
       "      <td>N</td>\n",
       "    </tr>\n",
       "    <tr>\n",
       "      <th>5</th>\n",
       "      <td>da_date</td>\n",
       "      <td>N</td>\n",
       "    </tr>\n",
       "    <tr>\n",
       "      <th>6</th>\n",
       "      <td>da_string</td>\n",
       "      <td>N</td>\n",
       "    </tr>\n",
       "  </tbody>\n",
       "</table>\n",
       "</div>"
      ],
      "text/plain": [
       "  NombreColumna Obligatorio\n",
       "0  da_operacion           S\n",
       "1   da_nemonico           S\n",
       "2        da_int           N\n",
       "3   da_currency           N\n",
       "4      da_float           N\n",
       "5       da_date           N\n",
       "6     da_string           N"
      ]
     },
     "execution_count": 4,
     "metadata": {},
     "output_type": "execute_result"
    }
   ],
   "source": [
    "df_columns_18"
   ]
  },
  {
   "cell_type": "code",
   "execution_count": 3,
   "id": "321cf6bd",
   "metadata": {},
   "outputs": [],
   "source": [
    "cs18 = df_18.head(10)\n",
    "cs18.to_csv(\"../24.csv\")"
   ]
  },
  {
   "cell_type": "code",
   "execution_count": null,
   "id": "3ef8bf0e",
   "metadata": {},
   "outputs": [],
   "source": [
    "import pandas as pd\n",
    "\n",
    "# Cargar archivo CSV\n",
    "df_24 = df_18\n",
    "\n",
    "# Convertir columnas relevantes a sus tipos apropiados\n",
    "df_24[\"da_operacion\"] = pd.to_numeric(df_24[\"da_operacion\"], errors=\"coerce\")\n",
    "\n",
    "# Lista para acumular errores\n",
    "errores = []\n",
    "\n",
    "# Validación 1: da_id_interno_credito no puede ser NULL ni 0\n",
    "val = df_24[\"da_operacion\"].isnull() | (df_24[\"da_operacion\"] == 0)\n",
    "errores.append(df_24[val][[\"da_operacion\"]].assign(campo_error=\"da_operacion\"))\n",
    "\n",
    "# Validación 2: da_codigo_dato_adicional no puede ser NULL\n",
    "val = df_24[\"da_codigo_dato_adicional\"].isnull() | (df_24[\"da_codigo_dato_adicional\"].str.strip() == \"\")\n",
    "errores.append(df_24[val][[\"da_id_interno_credito\"]].assign(campo_error=\"da_codigo_dato_adicional\"))\n",
    "\n",
    "# Concatenar errores\n",
    "df_errores_24 = pd.concat(errores, ignore_index=True).drop_duplicates()\n",
    "\n",
    "# Mostrar los errores\n",
    "print(df_errores_24)\n"
   ]
  }
 ],
 "metadata": {
  "kernelspec": {
   "display_name": "base",
   "language": "python",
   "name": "python3"
  },
  "language_info": {
   "codemirror_mode": {
    "name": "ipython",
    "version": 3
   },
   "file_extension": ".py",
   "mimetype": "text/x-python",
   "name": "python",
   "nbconvert_exporter": "python",
   "pygments_lexer": "ipython3",
   "version": "3.12.7"
  }
 },
 "nbformat": 4,
 "nbformat_minor": 5
}
