{
 "cells": [
  {
   "cell_type": "code",
   "execution_count": 1,
   "id": "a74b7123",
   "metadata": {},
   "outputs": [],
   "source": [
    "import pandas as pd\n",
    "\n",
    "df_18 = pd.read_csv('MIGTAB025X.csv',sep=\"|\")\n",
    "df_columns_18 = pd.read_csv('Campos MIGTAB025X.csv',sep=\";\")\n",
    "df_18.columns = df_columns_18['NombreColumna'].tolist()\n",
    "\n",
    "pd.set_option('display.max_rows', None)\n",
    "pd.set_option('display.max_columns', None)\n",
    "pd.set_option('display.expand_frame_repr', False) "
   ]
  },
  {
   "cell_type": "code",
   "execution_count": 2,
   "id": "ef22cf9b",
   "metadata": {},
   "outputs": [
    {
     "data": {
      "text/html": [
       "<div>\n",
       "<style scoped>\n",
       "    .dataframe tbody tr th:only-of-type {\n",
       "        vertical-align: middle;\n",
       "    }\n",
       "\n",
       "    .dataframe tbody tr th {\n",
       "        vertical-align: top;\n",
       "    }\n",
       "\n",
       "    .dataframe thead th {\n",
       "        text-align: right;\n",
       "    }\n",
       "</style>\n",
       "<table border=\"1\" class=\"dataframe\">\n",
       "  <thead>\n",
       "    <tr style=\"text-align: right;\">\n",
       "      <th></th>\n",
       "      <th>red_operacion</th>\n",
       "      <th>red_concepto</th>\n",
       "      <th>red_referencial</th>\n",
       "      <th>red_signo</th>\n",
       "      <th>red_factor</th>\n",
       "      <th>red_porcentaje</th>\n",
       "      <th>red_fecha</th>\n",
       "    </tr>\n",
       "  </thead>\n",
       "  <tbody>\n",
       "    <tr>\n",
       "      <th>0</th>\n",
       "      <td>6542</td>\n",
       "      <td>INT</td>\n",
       "      <td>515</td>\n",
       "      <td>+</td>\n",
       "      <td>0.0</td>\n",
       "      <td>5.27</td>\n",
       "      <td>NaN</td>\n",
       "    </tr>\n",
       "    <tr>\n",
       "      <th>1</th>\n",
       "      <td>6543</td>\n",
       "      <td>INT</td>\n",
       "      <td>515</td>\n",
       "      <td>+</td>\n",
       "      <td>0.0</td>\n",
       "      <td>5.27</td>\n",
       "      <td>NaN</td>\n",
       "    </tr>\n",
       "    <tr>\n",
       "      <th>2</th>\n",
       "      <td>6544</td>\n",
       "      <td>INT</td>\n",
       "      <td>515</td>\n",
       "      <td>+</td>\n",
       "      <td>0.0</td>\n",
       "      <td>5.27</td>\n",
       "      <td>NaN</td>\n",
       "    </tr>\n",
       "    <tr>\n",
       "      <th>3</th>\n",
       "      <td>6545</td>\n",
       "      <td>INT</td>\n",
       "      <td>2</td>\n",
       "      <td>+</td>\n",
       "      <td>0.0</td>\n",
       "      <td>2.00</td>\n",
       "      <td>NaN</td>\n",
       "    </tr>\n",
       "    <tr>\n",
       "      <th>4</th>\n",
       "      <td>6547</td>\n",
       "      <td>INT</td>\n",
       "      <td>515</td>\n",
       "      <td>+</td>\n",
       "      <td>0.0</td>\n",
       "      <td>5.33</td>\n",
       "      <td>NaN</td>\n",
       "    </tr>\n",
       "  </tbody>\n",
       "</table>\n",
       "</div>"
      ],
      "text/plain": [
       "   red_operacion red_concepto  red_referencial red_signo  red_factor  red_porcentaje  red_fecha\n",
       "0           6542          INT              515         +         0.0            5.27        NaN\n",
       "1           6543          INT              515         +         0.0            5.27        NaN\n",
       "2           6544          INT              515         +         0.0            5.27        NaN\n",
       "3           6545          INT                2         +         0.0            2.00        NaN\n",
       "4           6547          INT              515         +         0.0            5.33        NaN"
      ]
     },
     "execution_count": 2,
     "metadata": {},
     "output_type": "execute_result"
    }
   ],
   "source": [
    "df_18.head(5)"
   ]
  },
  {
   "cell_type": "code",
   "execution_count": 3,
   "id": "918aad0a",
   "metadata": {},
   "outputs": [
    {
     "data": {
      "text/html": [
       "<div>\n",
       "<style scoped>\n",
       "    .dataframe tbody tr th:only-of-type {\n",
       "        vertical-align: middle;\n",
       "    }\n",
       "\n",
       "    .dataframe tbody tr th {\n",
       "        vertical-align: top;\n",
       "    }\n",
       "\n",
       "    .dataframe thead th {\n",
       "        text-align: right;\n",
       "    }\n",
       "</style>\n",
       "<table border=\"1\" class=\"dataframe\">\n",
       "  <thead>\n",
       "    <tr style=\"text-align: right;\">\n",
       "      <th></th>\n",
       "      <th>NombreColumna</th>\n",
       "      <th>CantidadNulos</th>\n",
       "    </tr>\n",
       "  </thead>\n",
       "  <tbody>\n",
       "    <tr>\n",
       "      <th>2</th>\n",
       "      <td>red_fecha</td>\n",
       "      <td>17</td>\n",
       "    </tr>\n",
       "  </tbody>\n",
       "</table>\n",
       "</div>"
      ],
      "text/plain": [
       "  NombreColumna  CantidadNulos\n",
       "2     red_fecha             17"
      ]
     },
     "execution_count": 3,
     "metadata": {},
     "output_type": "execute_result"
    }
   ],
   "source": [
    "df_columnasObligatorias = df_columns_18[df_columns_18['Obligatorio'] == 'S']['NombreColumna'].tolist()\n",
    "df_Final = df_18[df_columnasObligatorias]\n",
    "#df_Final.shape\n",
    "nulos = df_Final.isnull().sum().reset_index()\n",
    "nulos.columns = ['NombreColumna','CantidadNulos']\n",
    "df_Columnas = nulos[nulos['CantidadNulos']> 0 ]['NombreColumna'].head(4).tolist()\n",
    "nulos[nulos['CantidadNulos']> 0 ]"
   ]
  }
 ],
 "metadata": {
  "kernelspec": {
   "display_name": "base",
   "language": "python",
   "name": "python3"
  },
  "language_info": {
   "codemirror_mode": {
    "name": "ipython",
    "version": 3
   },
   "file_extension": ".py",
   "mimetype": "text/x-python",
   "name": "python",
   "nbconvert_exporter": "python",
   "pygments_lexer": "ipython3",
   "version": "3.12.7"
  }
 },
 "nbformat": 4,
 "nbformat_minor": 5
}
