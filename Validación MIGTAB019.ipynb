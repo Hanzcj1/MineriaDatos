{
 "cells": [
  {
   "cell_type": "code",
   "execution_count": 171,
   "id": "3b7c11f0",
   "metadata": {},
   "outputs": [
    {
     "name": "stderr",
     "output_type": "stream",
     "text": [
      "C:\\Users\\Fabian - PC\\AppData\\Local\\Temp\\ipykernel_19196\\3586551123.py:5: DtypeWarning: Columns (2,5,7) have mixed types. Specify dtype option on import or set low_memory=False.\n",
      "  df_18 = pd.read_csv('../MIGTABO19X.csv',sep=\"|\")\n"
     ]
    }
   ],
   "source": [
    "import pandas as pd\n",
    "from datetime import datetime\n",
    "from calendar import monthrange\n",
    "\n",
    "df_18 = pd.read_csv('../MIGTABO19X.csv',sep=\"|\")\n",
    "df_columns_18 = pd.read_csv('Campos MIGTAB019.csv',sep=\";\")\n",
    "#df_18.drop('Unnamed: 3',axis=1,inplace= True)\n",
    "df_18.columns = df_columns_18['NombreColumna'].tolist()\n",
    "\n",
    "pd.set_option('display.max_rows', None)\n",
    "pd.set_option('display.max_columns', None)\n",
    "pd.set_option('display.expand_frame_repr', False)"
   ]
  },
  {
   "cell_type": "markdown",
   "id": "b25051aa",
   "metadata": {},
   "source": [
    "#### Validación Campos obligatorios que no vengan nulos"
   ]
  },
  {
   "cell_type": "code",
   "execution_count": 172,
   "id": "60baeb00",
   "metadata": {},
   "outputs": [],
   "source": [
    "df_columnasObligatorias = df_columns_18[df_columns_18['Obligatorio'] == 'S']['NombreColumna'].tolist()\n",
    "df_Final = df_18[df_columnasObligatorias]\n",
    "#df_Final.shape\n",
    "nulos = df_Final.isnull().sum().reset_index()\n",
    "nulos.columns = ['NombreColumna','CantidadNulos']\n",
    "df_Columnas = nulos[nulos['CantidadNulos']> 0 ]['NombreColumna'].head(4).tolist()\n"
   ]
  },
  {
   "cell_type": "code",
   "execution_count": 173,
   "id": "909aa9d6",
   "metadata": {},
   "outputs": [],
   "source": [
    "errores = []"
   ]
  },
  {
   "cell_type": "markdown",
   "id": "6c8802bc",
   "metadata": {},
   "source": [
    "ro_operacion"
   ]
  },
  {
   "cell_type": "code",
   "execution_count": 174,
   "id": "ca640b29",
   "metadata": {},
   "outputs": [],
   "source": [
    "df_18[\"ro_operacion\"] = pd.to_numeric(df_18[\"ro_operacion\"], errors=\"coerce\")\n",
    "\n",
    "validacion = df_18[\"ro_operacion\"].isnull() | (df_18[\"ro_operacion\"] == 0)\n",
    "\n",
    "errores = df_18[validacion][[\"ro_operacion\"]].assign(campo_error=\"ro_operacion\")\n"
   ]
  },
  {
   "cell_type": "markdown",
   "id": "8d9ac9ab",
   "metadata": {},
   "source": [
    "ro_concepto"
   ]
  },
  {
   "cell_type": "code",
   "execution_count": 175,
   "id": "d67cfb53",
   "metadata": {},
   "outputs": [],
   "source": [
    "validacion = df_18[\"ro_concepto\"].isnull() | (df_18[\"ro_concepto\"].astype(str).str.strip() == \"\")\n",
    "\n",
    "erroresValidacion = df_18[validacion][[\"ro_operacion\"]].assign(campo_error=\"ro_concepto\")\n",
    "\n",
    "errores = pd.concat([errores,erroresValidacion], ignore_index=True)\n"
   ]
  },
  {
   "cell_type": "markdown",
   "id": "430b9824",
   "metadata": {},
   "source": [
    "ro_signo"
   ]
  },
  {
   "cell_type": "code",
   "execution_count": 176,
   "id": "f1857c1f",
   "metadata": {},
   "outputs": [],
   "source": [
    "# Validación 3: ro_signo\n",
    "validacion =  ~df_18[\"ro_signo\"].isin([\"+\", \"-\"]) &  df_18[\"ro_signo\"].notna() & (df_18[\"ro_signo\"].astype(str).str.strip() != \"\") \n",
    "\n",
    "erroresValidacion = df_18[validacion][[\"ro_operacion\"]].assign(campo_error=\"ro_signo\")\n",
    "\n",
    "errores = pd.concat([errores,erroresValidacion], ignore_index=True)"
   ]
  },
  {
   "cell_type": "markdown",
   "id": "0bf20ac8",
   "metadata": {},
   "source": [
    "Factor Rubro"
   ]
  },
  {
   "cell_type": "code",
   "execution_count": 177,
   "id": "49e82e04",
   "metadata": {},
   "outputs": [],
   "source": [
    "validacion = (df_18[\"ro_concepto\"] == \"CAPITAL\") & (df_18[\"ro_factor\"] != 0)\n",
    "erroresValidacion = df_18[validacion][[\"ro_operacion\"]].assign(campo_error=\"ro_factor\")\n",
    "errores = pd.concat([errores,erroresValidacion], ignore_index=True)"
   ]
  },
  {
   "cell_type": "markdown",
   "id": "e1687712",
   "metadata": {},
   "source": [
    "Tasa Referencial"
   ]
  },
  {
   "cell_type": "code",
   "execution_count": 178,
   "id": "333920d0",
   "metadata": {},
   "outputs": [],
   "source": [
    "erroresValidacion = df_18[\n",
    "    (\n",
    "        (df_18[\"ro_concepto\"] == \"IMO\") & \n",
    "        (df_18[\"ro_referencial\"] != \"T_USURA\")\n",
    "    ) | \n",
    "    (\n",
    "        (df_18[\"ro_concepto\"] == \"CAP\") &\n",
    "        df_18[\"ro_referencial\"].notna()\n",
    "    )\n",
    "][[\"ro_operacion\"]].assign(campo_error=\"ro_referencial\")\n",
    "\n",
    "errores = pd.concat([errores,erroresValidacion], ignore_index=True)\n"
   ]
  },
  {
   "cell_type": "markdown",
   "id": "ee709e02",
   "metadata": {},
   "source": [
    "ro_signo_reajuste"
   ]
  },
  {
   "cell_type": "code",
   "execution_count": 179,
   "id": "f8f0e02c",
   "metadata": {},
   "outputs": [],
   "source": [
    "erroresValidacion = df_18[\n",
    "    ~df_18[\"ro_signo\"].isin([\"+\", \"-\",\"/\",\"*\"]) & \n",
    "    df_18[\"ro_signo\"].notna() &           \n",
    "    (df_18[\"ro_signo\"].astype(str).str.strip() != \"\") \n",
    "][[\"ro_operacion\"]].assign(campo_error=\"ro_signo_reajuste\")\n",
    "\n",
    "errores = pd.concat([errores,erroresValidacion], ignore_index=True)"
   ]
  },
  {
   "cell_type": "markdown",
   "id": "b28f3354",
   "metadata": {},
   "source": [
    "ro_factor_reajuste"
   ]
  },
  {
   "cell_type": "code",
   "execution_count": 180,
   "id": "1dc96b91",
   "metadata": {},
   "outputs": [],
   "source": [
    "erroresValidacion = df_18[df_18[\"ro_concepto\"].isin([\"CAP\",\"IMO\"]) &\n",
    "                          df_18[\"ro_signo_reajuste\"] != 0][[\"ro_operacion\"]].assign(campo_error=\"ro_factor_reajuste\")\n",
    "\n",
    "errores = pd.concat([errores,erroresValidacion], ignore_index=True)"
   ]
  },
  {
   "cell_type": "markdown",
   "id": "e0a982e2",
   "metadata": {},
   "source": [
    "ro_referencial_reajuste"
   ]
  },
  {
   "cell_type": "code",
   "execution_count": 181,
   "id": "492aaa08",
   "metadata": {},
   "outputs": [],
   "source": [
    "erroresValidacion = df_18[df_18[\"ro_concepto\"].isin([\"CAP\",\"IMO\"]) & df_18[\"ro_signo_reajuste\"].notna()][[\"ro_operacion\"]].assign(campo_error=\"ro_referencial_reajuste\")\n",
    "errores = pd.concat([errores,erroresValidacion], ignore_index=True)"
   ]
  },
  {
   "cell_type": "markdown",
   "id": "a9551dc4",
   "metadata": {},
   "source": [
    "ro_valor"
   ]
  },
  {
   "cell_type": "code",
   "execution_count": 182,
   "id": "42a3a9a8",
   "metadata": {},
   "outputs": [],
   "source": [
    "erroresValidacion = df_18[\n",
    "    (\n",
    "        df_18[\"ro_concepto\"].isin([\"INT\", \"IMO\"]) & \n",
    "        (df_18[\"ro_valor\"] != 0)\n",
    "    ) |\n",
    "    (\n",
    "        (df_18[\"ro_concepto\"] == \"CAP\") & \n",
    "        (df_18[\"ro_valor\"] < 0)\n",
    "    )\n",
    "][[\"ro_operacion\"]].assign(campo_error=\"ro_valor\")\n",
    "\n",
    "errores = pd.concat([errores,erroresValidacion], ignore_index=True)\n"
   ]
  },
  {
   "cell_type": "markdown",
   "id": "ec55617e",
   "metadata": {},
   "source": [
    "ro_garantia"
   ]
  },
  {
   "cell_type": "code",
   "execution_count": 183,
   "id": "385aaf2f",
   "metadata": {},
   "outputs": [],
   "source": [
    "erroresValidacion = df_18[df_18[\"ro_garantia\"] != 0][[\"ro_operacion\"]].assign(campo_error=\"ro_garantia\")\n",
    "errores = pd.concat([errores,erroresValidacion], ignore_index=True)"
   ]
  },
  {
   "cell_type": "markdown",
   "id": "94691356",
   "metadata": {},
   "source": [
    "ro_financiado"
   ]
  },
  {
   "cell_type": "code",
   "execution_count": 184,
   "id": "e5985f19",
   "metadata": {},
   "outputs": [],
   "source": [
    "erroresValidacion = df_18[df_18[\"ro_financiado\"].notna()][[\"ro_operacion\"]].assign(campo_error=\"ro_financiado\")\n",
    "\n",
    "errores = pd.concat([errores,erroresValidacion], ignore_index=True)"
   ]
  },
  {
   "cell_type": "markdown",
   "id": "52df4a6b",
   "metadata": {},
   "source": [
    "Manejo de errores"
   ]
  },
  {
   "cell_type": "code",
   "execution_count": 185,
   "id": "e1dd3491",
   "metadata": {},
   "outputs": [],
   "source": [
    "df_19 = df_18[~df_18[\"ro_operacion\"].isin(errores[\"ro_operacion\"])]\n",
    "\n",
    "fecha_formateada = pd.Timestamp.now().strftime(\"%Y%m%d%H%M%S\")"
   ]
  },
  {
   "cell_type": "code",
   "execution_count": 186,
   "id": "670746f9",
   "metadata": {},
   "outputs": [],
   "source": [
    "df_19.to_csv(f'../CA_RUBRO_OP_MIG_{fecha_formateada}.txt',encoding='ISO-8859-1',  decimal=',' ,index=False, sep=\"|\",header=False)\n",
    "\n",
    "if not errores.empty:\n",
    "    errores.to_csv('../Errores_19.csv',encoding='ISO-8859-1',  decimal=',' ,index=False)\n",
    "\n",
    "\n"
   ]
  }
 ],
 "metadata": {
  "kernelspec": {
   "display_name": "base",
   "language": "python",
   "name": "python3"
  },
  "language_info": {
   "codemirror_mode": {
    "name": "ipython",
    "version": 3
   },
   "file_extension": ".py",
   "mimetype": "text/x-python",
   "name": "python",
   "nbconvert_exporter": "python",
   "pygments_lexer": "ipython3",
   "version": "3.12.7"
  }
 },
 "nbformat": 4,
 "nbformat_minor": 5
}
