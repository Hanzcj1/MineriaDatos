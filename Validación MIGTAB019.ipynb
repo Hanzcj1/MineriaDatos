{
 "cells": [
  {
   "cell_type": "code",
   "execution_count": 4,
   "id": "3b7c11f0",
   "metadata": {},
   "outputs": [
    {
     "name": "stderr",
     "output_type": "stream",
     "text": [
      "C:\\Users\\GTC-88\\AppData\\Local\\Temp\\ipykernel_33188\\1068307659.py:3: DtypeWarning: Columns (2,5) have mixed types. Specify dtype option on import or set low_memory=False.\n",
      "  df_18 = pd.read_csv('MIGTAB019.txt',sep=\"|\")\n"
     ]
    }
   ],
   "source": [
    "import pandas as pd\n",
    "\n",
    "df_18 = pd.read_csv('MIGTAB019.txt',sep=\"|\")\n",
    "df_columns_18 = pd.read_csv('Campos MIGTAB019.csv',sep=\";\")\n",
    "#df_18.drop('Unnamed: 3',axis=1,inplace= True)\n",
    "df_18.columns = df_columns_18['NombreColumna'].tolist()\n",
    "\n",
    "pd.set_option('display.max_rows', None)\n",
    "pd.set_option('display.max_columns', None)\n",
    "pd.set_option('display.expand_frame_repr', False)"
   ]
  },
  {
   "cell_type": "code",
   "execution_count": 5,
   "id": "f5adef3c",
   "metadata": {},
   "outputs": [
    {
     "data": {
      "text/html": [
       "<div>\n",
       "<style scoped>\n",
       "    .dataframe tbody tr th:only-of-type {\n",
       "        vertical-align: middle;\n",
       "    }\n",
       "\n",
       "    .dataframe tbody tr th {\n",
       "        vertical-align: top;\n",
       "    }\n",
       "\n",
       "    .dataframe thead th {\n",
       "        text-align: right;\n",
       "    }\n",
       "</style>\n",
       "<table border=\"1\" class=\"dataframe\">\n",
       "  <thead>\n",
       "    <tr style=\"text-align: right;\">\n",
       "      <th></th>\n",
       "      <th>ro_operacion</th>\n",
       "      <th>ro_concepto</th>\n",
       "      <th>ro_signo</th>\n",
       "      <th>ro_factor</th>\n",
       "      <th>ro_referencial</th>\n",
       "      <th>ro_signo_reajuste</th>\n",
       "      <th>ro_factor_reajuste</th>\n",
       "      <th>ro_referencial_reajuste</th>\n",
       "      <th>ro_valor</th>\n",
       "      <th>ro_porcentaje_efa</th>\n",
       "      <th>ro_garantia</th>\n",
       "      <th>ro_financiado</th>\n",
       "    </tr>\n",
       "  </thead>\n",
       "  <tbody>\n",
       "    <tr>\n",
       "      <th>47729</th>\n",
       "      <td>20911</td>\n",
       "      <td>CAP</td>\n",
       "      <td>NaN</td>\n",
       "      <td>0.0</td>\n",
       "      <td>NaN</td>\n",
       "      <td>NaN</td>\n",
       "      <td>0.0</td>\n",
       "      <td>NaN</td>\n",
       "      <td>2002000.0</td>\n",
       "      <td>0</td>\n",
       "      <td>0</td>\n",
       "      <td>NaN</td>\n",
       "    </tr>\n",
       "    <tr>\n",
       "      <th>47730</th>\n",
       "      <td>20911</td>\n",
       "      <td>INT</td>\n",
       "      <td>NaN</td>\n",
       "      <td>0.0</td>\n",
       "      <td>T_FIJA</td>\n",
       "      <td>NaN</td>\n",
       "      <td>0.0</td>\n",
       "      <td>16.8</td>\n",
       "      <td>0.0</td>\n",
       "      <td>470</td>\n",
       "      <td>0</td>\n",
       "      <td>NaN</td>\n",
       "    </tr>\n",
       "    <tr>\n",
       "      <th>47731</th>\n",
       "      <td>20911</td>\n",
       "      <td>IMO</td>\n",
       "      <td>NaN</td>\n",
       "      <td>0.0</td>\n",
       "      <td>T_FIJA</td>\n",
       "      <td>NaN</td>\n",
       "      <td>0.0</td>\n",
       "      <td>NaN</td>\n",
       "      <td>0.0</td>\n",
       "      <td>470</td>\n",
       "      <td>0</td>\n",
       "      <td>NaN</td>\n",
       "    </tr>\n",
       "  </tbody>\n",
       "</table>\n",
       "</div>"
      ],
      "text/plain": [
       "       ro_operacion ro_concepto ro_signo  ro_factor ro_referencial ro_signo_reajuste  ro_factor_reajuste  ro_referencial_reajuste   ro_valor  ro_porcentaje_efa  ro_garantia  ro_financiado\n",
       "47729         20911         CAP      NaN        0.0            NaN               NaN                 0.0                      NaN  2002000.0                  0            0            NaN\n",
       "47730         20911         INT      NaN        0.0         T_FIJA               NaN                 0.0                     16.8        0.0                470            0            NaN\n",
       "47731         20911         IMO      NaN        0.0         T_FIJA               NaN                 0.0                      NaN        0.0                470            0            NaN"
      ]
     },
     "execution_count": 5,
     "metadata": {},
     "output_type": "execute_result"
    }
   ],
   "source": [
    "df_18[df_18['ro_operacion'] == 20911 ]"
   ]
  },
  {
   "cell_type": "code",
   "execution_count": 7,
   "id": "60baeb00",
   "metadata": {},
   "outputs": [],
   "source": [
    "df_columnasObligatorias = df_columns_18[df_columns_18['Obligatorio'] == 'S']['NombreColumna'].tolist()\n",
    "df_Final = df_18[df_columnasObligatorias]\n",
    "#df_Final.shape\n",
    "nulos = df_Final.isnull().sum().reset_index()\n",
    "nulos.columns = ['NombreColumna','CantidadNulos']\n",
    "df_Columnas = nulos[nulos['CantidadNulos']> 0 ]['NombreColumna'].head(4).tolist()\n"
   ]
  }
 ],
 "metadata": {
  "kernelspec": {
   "display_name": "base",
   "language": "python",
   "name": "python3"
  },
  "language_info": {
   "codemirror_mode": {
    "name": "ipython",
    "version": 3
   },
   "file_extension": ".py",
   "mimetype": "text/x-python",
   "name": "python",
   "nbconvert_exporter": "python",
   "pygments_lexer": "ipython3",
   "version": "3.12.7"
  }
 },
 "nbformat": 4,
 "nbformat_minor": 5
}
