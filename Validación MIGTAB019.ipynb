{
 "cells": [
  {
   "cell_type": "code",
   "execution_count": 2,
   "id": "3b7c11f0",
   "metadata": {},
   "outputs": [
    {
     "name": "stderr",
     "output_type": "stream",
     "text": [
      "C:\\Users\\Fabian - PC\\AppData\\Local\\Temp\\ipykernel_19196\\3853580854.py:3: DtypeWarning: Columns (2,5,7) have mixed types. Specify dtype option on import or set low_memory=False.\n",
      "  df_18 = pd.read_csv('../MIGTABO19X.csv',sep=\"|\")\n"
     ]
    }
   ],
   "source": [
    "import pandas as pd\n",
    "\n",
    "df_18 = pd.read_csv('../MIGTABO19X.csv',sep=\"|\")\n",
    "df_columns_18 = pd.read_csv('Campos MIGTAB019.csv',sep=\";\")\n",
    "#df_18.drop('Unnamed: 3',axis=1,inplace= True)\n",
    "df_18.columns = df_columns_18['NombreColumna'].tolist()\n",
    "\n",
    "pd.set_option('display.max_rows', None)\n",
    "pd.set_option('display.max_columns', None)\n",
    "pd.set_option('display.expand_frame_repr', False)"
   ]
  },
  {
   "cell_type": "code",
   "execution_count": 3,
   "id": "94dcc7f2",
   "metadata": {},
   "outputs": [
    {
     "data": {
      "text/html": [
       "<div>\n",
       "<style scoped>\n",
       "    .dataframe tbody tr th:only-of-type {\n",
       "        vertical-align: middle;\n",
       "    }\n",
       "\n",
       "    .dataframe tbody tr th {\n",
       "        vertical-align: top;\n",
       "    }\n",
       "\n",
       "    .dataframe thead th {\n",
       "        text-align: right;\n",
       "    }\n",
       "</style>\n",
       "<table border=\"1\" class=\"dataframe\">\n",
       "  <thead>\n",
       "    <tr style=\"text-align: right;\">\n",
       "      <th></th>\n",
       "      <th>ro_operacion</th>\n",
       "      <th>ro_concepto</th>\n",
       "      <th>ro_signo</th>\n",
       "      <th>ro_factor</th>\n",
       "      <th>ro_referencial</th>\n",
       "      <th>ro_signo_reajuste</th>\n",
       "      <th>ro_factor_reajuste</th>\n",
       "      <th>ro_referencial_reajuste</th>\n",
       "      <th>ro_valor</th>\n",
       "      <th>ro_porcentaje_efa</th>\n",
       "      <th>ro_garantia</th>\n",
       "      <th>ro_financiado</th>\n",
       "    </tr>\n",
       "  </thead>\n",
       "  <tbody>\n",
       "    <tr>\n",
       "      <th>0</th>\n",
       "      <td>5001</td>\n",
       "      <td>INT</td>\n",
       "      <td>NaN</td>\n",
       "      <td>0.0</td>\n",
       "      <td>T_FIJA</td>\n",
       "      <td>NaN</td>\n",
       "      <td>NaN</td>\n",
       "      <td>NaN</td>\n",
       "      <td>0.0</td>\n",
       "      <td>29.3334</td>\n",
       "      <td>0</td>\n",
       "      <td>NaN</td>\n",
       "    </tr>\n",
       "    <tr>\n",
       "      <th>1</th>\n",
       "      <td>5001</td>\n",
       "      <td>IMO</td>\n",
       "      <td>NaN</td>\n",
       "      <td>0.0</td>\n",
       "      <td>T_USURA</td>\n",
       "      <td>NaN</td>\n",
       "      <td>0.0</td>\n",
       "      <td>NaN</td>\n",
       "      <td>0.0</td>\n",
       "      <td>0.0000</td>\n",
       "      <td>0</td>\n",
       "      <td>NaN</td>\n",
       "    </tr>\n",
       "    <tr>\n",
       "      <th>2</th>\n",
       "      <td>5002</td>\n",
       "      <td>CAP</td>\n",
       "      <td>NaN</td>\n",
       "      <td>0.0</td>\n",
       "      <td>NaN</td>\n",
       "      <td>NaN</td>\n",
       "      <td>0.0</td>\n",
       "      <td>NaN</td>\n",
       "      <td>3672326.0</td>\n",
       "      <td>0.0000</td>\n",
       "      <td>0</td>\n",
       "      <td>NaN</td>\n",
       "    </tr>\n",
       "    <tr>\n",
       "      <th>3</th>\n",
       "      <td>5002</td>\n",
       "      <td>INT</td>\n",
       "      <td>NaN</td>\n",
       "      <td>0.0</td>\n",
       "      <td>T_FIJA</td>\n",
       "      <td>NaN</td>\n",
       "      <td>NaN</td>\n",
       "      <td>NaN</td>\n",
       "      <td>0.0</td>\n",
       "      <td>24.9962</td>\n",
       "      <td>0</td>\n",
       "      <td>NaN</td>\n",
       "    </tr>\n",
       "    <tr>\n",
       "      <th>4</th>\n",
       "      <td>5002</td>\n",
       "      <td>IMO</td>\n",
       "      <td>NaN</td>\n",
       "      <td>0.0</td>\n",
       "      <td>T_USURA</td>\n",
       "      <td>NaN</td>\n",
       "      <td>0.0</td>\n",
       "      <td>NaN</td>\n",
       "      <td>0.0</td>\n",
       "      <td>0.0000</td>\n",
       "      <td>0</td>\n",
       "      <td>NaN</td>\n",
       "    </tr>\n",
       "  </tbody>\n",
       "</table>\n",
       "</div>"
      ],
      "text/plain": [
       "   ro_operacion ro_concepto ro_signo  ro_factor ro_referencial ro_signo_reajuste  ro_factor_reajuste ro_referencial_reajuste   ro_valor  ro_porcentaje_efa  ro_garantia  ro_financiado\n",
       "0          5001         INT      NaN        0.0         T_FIJA               NaN                 NaN                     NaN        0.0            29.3334            0            NaN\n",
       "1          5001         IMO      NaN        0.0        T_USURA               NaN                 0.0                     NaN        0.0             0.0000            0            NaN\n",
       "2          5002         CAP      NaN        0.0            NaN               NaN                 0.0                     NaN  3672326.0             0.0000            0            NaN\n",
       "3          5002         INT      NaN        0.0         T_FIJA               NaN                 NaN                     NaN        0.0            24.9962            0            NaN\n",
       "4          5002         IMO      NaN        0.0        T_USURA               NaN                 0.0                     NaN        0.0             0.0000            0            NaN"
      ]
     },
     "execution_count": 3,
     "metadata": {},
     "output_type": "execute_result"
    }
   ],
   "source": [
    "df_18.head(5)"
   ]
  },
  {
   "cell_type": "markdown",
   "id": "b25051aa",
   "metadata": {},
   "source": [
    "#### Validación Campos obligatorios que no vengan nulos"
   ]
  },
  {
   "cell_type": "code",
   "execution_count": null,
   "id": "60baeb00",
   "metadata": {},
   "outputs": [
    {
     "data": {
      "text/plain": [
       "[]"
      ]
     },
     "execution_count": 7,
     "metadata": {},
     "output_type": "execute_result"
    }
   ],
   "source": [
    "df_columnasObligatorias = df_columns_18[df_columns_18['Obligatorio'] == 'S']['NombreColumna'].tolist()\n",
    "df_Final = df_18[df_columnasObligatorias]\n",
    "#df_Final.shape\n",
    "nulos = df_Final.isnull().sum().reset_index()\n",
    "nulos.columns = ['NombreColumna','CantidadNulos']\n",
    "df_Columnas = nulos[nulos['CantidadNulos']> 0 ]['NombreColumna'].head(4).tolist()\n"
   ]
  },
  {
   "cell_type": "code",
   "execution_count": 14,
   "id": "909aa9d6",
   "metadata": {},
   "outputs": [],
   "source": [
    "errores = {}"
   ]
  },
  {
   "cell_type": "code",
   "execution_count": 20,
   "id": "668979a1",
   "metadata": {},
   "outputs": [],
   "source": [
    "df_18[\"ro_operacion\"] = pd.to_numeric(df_18[\"ro_operacion\"], errors=\"coerce\")\n",
    "errores[\"ro_operacion\"] = df_18[df_18[\"ro_operacion\"].isnull() | (df_18[\"ro_operacion\"] == 0)]\n"
   ]
  },
  {
   "cell_type": "code",
   "execution_count": 22,
   "id": "d67cfb53",
   "metadata": {},
   "outputs": [],
   "source": [
    "errores[\"ro_concepto\"] = df_18[df_18[\"ro_concepto\"].isnull() | (df_18[\"ro_concepto\"].astype(str).str.strip() == \"\")]\n"
   ]
  },
  {
   "cell_type": "code",
   "execution_count": null,
   "id": "f1857c1f",
   "metadata": {},
   "outputs": [
    {
     "data": {
      "text/plain": [
       "Series([], Name: ro_operacion, dtype: int64)"
      ]
     },
     "execution_count": 8,
     "metadata": {},
     "output_type": "execute_result"
    }
   ],
   "source": [
    "# Validación 3: ro_signo\n",
    "df_18[\n",
    "    ~df_18[\"ro_signo\"].isin([\"+\", \"-\"]) & \n",
    "    df_18[\"ro_signo\"].notna() &           \n",
    "    (df_18[\"ro_signo\"].astype(str).str.strip() != \"\") \n",
    "]['ro_operacion']"
   ]
  },
  {
   "cell_type": "markdown",
   "id": "0bf20ac8",
   "metadata": {},
   "source": [
    "Factor Rubro"
   ]
  },
  {
   "cell_type": "code",
   "execution_count": 11,
   "id": "49e82e04",
   "metadata": {},
   "outputs": [
    {
     "data": {
      "text/plain": [
       "Series([], Name: ro_operacion, dtype: int64)"
      ]
     },
     "execution_count": 11,
     "metadata": {},
     "output_type": "execute_result"
    }
   ],
   "source": [
    "df_18[(df_18[\"ro_concepto\"] == \"CAPITAL\") & (df_18[\"ro_factor\"] != 0)]['ro_operacion']"
   ]
  },
  {
   "cell_type": "markdown",
   "id": "e1687712",
   "metadata": {},
   "source": [
    "Tasa Referencial"
   ]
  },
  {
   "cell_type": "code",
   "execution_count": null,
   "id": "333920d0",
   "metadata": {},
   "outputs": [
    {
     "data": {
      "text/html": [
       "<div>\n",
       "<style scoped>\n",
       "    .dataframe tbody tr th:only-of-type {\n",
       "        vertical-align: middle;\n",
       "    }\n",
       "\n",
       "    .dataframe tbody tr th {\n",
       "        vertical-align: top;\n",
       "    }\n",
       "\n",
       "    .dataframe thead th {\n",
       "        text-align: right;\n",
       "    }\n",
       "</style>\n",
       "<table border=\"1\" class=\"dataframe\">\n",
       "  <thead>\n",
       "    <tr style=\"text-align: right;\">\n",
       "      <th></th>\n",
       "      <th>ro_operacion</th>\n",
       "      <th>ro_concepto</th>\n",
       "      <th>ro_signo</th>\n",
       "      <th>ro_factor</th>\n",
       "      <th>ro_referencial</th>\n",
       "      <th>ro_signo_reajuste</th>\n",
       "      <th>ro_factor_reajuste</th>\n",
       "      <th>ro_referencial_reajuste</th>\n",
       "      <th>ro_valor</th>\n",
       "      <th>ro_porcentaje_efa</th>\n",
       "      <th>ro_garantia</th>\n",
       "      <th>ro_financiado</th>\n",
       "    </tr>\n",
       "  </thead>\n",
       "  <tbody>\n",
       "  </tbody>\n",
       "</table>\n",
       "</div>"
      ],
      "text/plain": [
       "Empty DataFrame\n",
       "Columns: [ro_operacion, ro_concepto, ro_signo, ro_factor, ro_referencial, ro_signo_reajuste, ro_factor_reajuste, ro_referencial_reajuste, ro_valor, ro_porcentaje_efa, ro_garantia, ro_financiado]\n",
       "Index: []"
      ]
     },
     "execution_count": 18,
     "metadata": {},
     "output_type": "execute_result"
    }
   ],
   "source": [
    "df_18[\n",
    "    (\n",
    "        (df_18[\"ro_concepto\"] == \"IMO\") & \n",
    "        (df_18[\"ro_referencial\"] != \"T_USURA\")\n",
    "    ) | \n",
    "    (\n",
    "        (df_18[\"ro_concepto\"] == \"CAP\") &\n",
    "        df_18[\"ro_referencial\"].notna()\n",
    "    )\n",
    "]['ro_operacion']"
   ]
  },
  {
   "cell_type": "markdown",
   "id": "ee709e02",
   "metadata": {},
   "source": [
    "ro_signo_reajuste"
   ]
  },
  {
   "cell_type": "code",
   "execution_count": 25,
   "id": "f8f0e02c",
   "metadata": {},
   "outputs": [
    {
     "data": {
      "text/plain": [
       "Series([], Name: ro_operacion, dtype: int64)"
      ]
     },
     "execution_count": 25,
     "metadata": {},
     "output_type": "execute_result"
    }
   ],
   "source": [
    "df_18[\n",
    "    ~df_18[\"ro_signo\"].isin([\"+\", \"-\",\"/\",\"*\"]) & \n",
    "    df_18[\"ro_signo\"].notna() &           \n",
    "    (df_18[\"ro_signo\"].astype(str).str.strip() != \"\") \n",
    "]['ro_operacion']"
   ]
  },
  {
   "cell_type": "markdown",
   "id": "b28f3354",
   "metadata": {},
   "source": [
    "ro_factor_reajuste"
   ]
  },
  {
   "cell_type": "code",
   "execution_count": 28,
   "id": "1dc96b91",
   "metadata": {},
   "outputs": [
    {
     "data": {
      "text/plain": [
       "Series([], Name: ro_operacion, dtype: int64)"
      ]
     },
     "execution_count": 28,
     "metadata": {},
     "output_type": "execute_result"
    }
   ],
   "source": [
    "df_18[df_18[\"ro_concepto\"].isin([\"CAP\",\"IMO\"]) & df_18[\"ro_signo_reajuste\"] != 0]['ro_operacion']"
   ]
  },
  {
   "cell_type": "markdown",
   "id": "e0a982e2",
   "metadata": {},
   "source": [
    "ro_referencial_reajuste"
   ]
  },
  {
   "cell_type": "code",
   "execution_count": 30,
   "id": "492aaa08",
   "metadata": {},
   "outputs": [
    {
     "data": {
      "text/plain": [
       "Series([], Name: ro_operacion, dtype: int64)"
      ]
     },
     "execution_count": 30,
     "metadata": {},
     "output_type": "execute_result"
    }
   ],
   "source": [
    "df_18[df_18[\"ro_concepto\"].isin([\"CAP\",\"IMO\"]) & df_18[\"ro_signo_reajuste\"].notna()]['ro_operacion']"
   ]
  },
  {
   "cell_type": "markdown",
   "id": "a9551dc4",
   "metadata": {},
   "source": [
    "ro_valor"
   ]
  },
  {
   "cell_type": "code",
   "execution_count": null,
   "id": "42a3a9a8",
   "metadata": {},
   "outputs": [
    {
     "data": {
      "text/plain": [
       "Series([], Name: ro_operacion, dtype: int64)"
      ]
     },
     "execution_count": 36,
     "metadata": {},
     "output_type": "execute_result"
    }
   ],
   "source": [
    "df_18[\n",
    "    (\n",
    "        df_18[\"ro_concepto\"].isin([\"INT\", \"IMO\"]) & \n",
    "        (df_18[\"ro_valor\"] != 0)\n",
    "    ) |\n",
    "    (\n",
    "        (df_18[\"ro_concepto\"] == \"CAP\") & \n",
    "        (df_18[\"ro_valor\"] < 0)\n",
    "    )\n",
    "][\"ro_operacion\"]\n"
   ]
  },
  {
   "cell_type": "markdown",
   "id": "ec55617e",
   "metadata": {},
   "source": [
    "ro_garantia"
   ]
  },
  {
   "cell_type": "code",
   "execution_count": 40,
   "id": "385aaf2f",
   "metadata": {},
   "outputs": [
    {
     "data": {
      "text/plain": [
       "Series([], Name: ro_operacion, dtype: int64)"
      ]
     },
     "execution_count": 40,
     "metadata": {},
     "output_type": "execute_result"
    }
   ],
   "source": [
    "df_18[df_18[\"ro_garantia\"] != 0][\"ro_operacion\"]"
   ]
  },
  {
   "cell_type": "markdown",
   "id": "94691356",
   "metadata": {},
   "source": [
    "ro_financiado"
   ]
  },
  {
   "cell_type": "code",
   "execution_count": 41,
   "id": "e5985f19",
   "metadata": {},
   "outputs": [
    {
     "data": {
      "text/plain": [
       "Series([], Name: ro_operacion, dtype: int64)"
      ]
     },
     "execution_count": 41,
     "metadata": {},
     "output_type": "execute_result"
    }
   ],
   "source": [
    "df_18[df_18[\"ro_financiado\"].notna()][\"ro_operacion\"]"
   ]
  }
 ],
 "metadata": {
  "kernelspec": {
   "display_name": "base",
   "language": "python",
   "name": "python3"
  },
  "language_info": {
   "codemirror_mode": {
    "name": "ipython",
    "version": 3
   },
   "file_extension": ".py",
   "mimetype": "text/x-python",
   "name": "python",
   "nbconvert_exporter": "python",
   "pygments_lexer": "ipython3",
   "version": "3.12.7"
  }
 },
 "nbformat": 4,
 "nbformat_minor": 5
}
