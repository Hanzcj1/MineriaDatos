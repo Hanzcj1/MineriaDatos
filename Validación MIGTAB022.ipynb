{
 "cells": [
  {
   "cell_type": "code",
   "execution_count": 2,
   "id": "91c29837",
   "metadata": {},
   "outputs": [],
   "source": [
    "import pandas as pd\n",
    "\n",
    "df_18 = pd.read_csv('../MIGTABO22X.csv',sep=\"|\")\n",
    "df_columns_18 = pd.read_csv('Campos MIGTAB022X.csv',sep=\";\")\n",
    "df_18.columns = df_columns_18['NombreColumna'].tolist()\n",
    "\n",
    "pd.set_option('display.max_rows', None)\n",
    "pd.set_option('display.max_columns', None)\n",
    "pd.set_option('display.expand_frame_repr', False) "
   ]
  },
  {
   "cell_type": "code",
   "execution_count": 8,
   "id": "f43255d8",
   "metadata": {},
   "outputs": [
    {
     "data": {
      "text/html": [
       "<div>\n",
       "<style scoped>\n",
       "    .dataframe tbody tr th:only-of-type {\n",
       "        vertical-align: middle;\n",
       "    }\n",
       "\n",
       "    .dataframe tbody tr th {\n",
       "        vertical-align: top;\n",
       "    }\n",
       "\n",
       "    .dataframe thead th {\n",
       "        text-align: right;\n",
       "    }\n",
       "</style>\n",
       "<table border=\"1\" class=\"dataframe\">\n",
       "  <thead>\n",
       "    <tr style=\"text-align: right;\">\n",
       "      <th></th>\n",
       "      <th>ts_operacion</th>\n",
       "      <th>ts_dividendo</th>\n",
       "      <th>ts_fecha</th>\n",
       "      <th>ts_concepto</th>\n",
       "      <th>ts_porcentaje</th>\n",
       "      <th>ts_secuencial</th>\n",
       "      <th>ts_porcentaje_efa</th>\n",
       "    </tr>\n",
       "  </thead>\n",
       "  <tbody>\n",
       "    <tr>\n",
       "      <th>0</th>\n",
       "      <td>6544</td>\n",
       "      <td>1</td>\n",
       "      <td>20171013</td>\n",
       "      <td>INT</td>\n",
       "      <td>5.27</td>\n",
       "      <td>1</td>\n",
       "      <td>5.3992</td>\n",
       "    </tr>\n",
       "    <tr>\n",
       "      <th>1</th>\n",
       "      <td>6549</td>\n",
       "      <td>1</td>\n",
       "      <td>20171130</td>\n",
       "      <td>INT</td>\n",
       "      <td>5.18</td>\n",
       "      <td>1</td>\n",
       "      <td>5.3048</td>\n",
       "    </tr>\n",
       "    <tr>\n",
       "      <th>2</th>\n",
       "      <td>6550</td>\n",
       "      <td>1</td>\n",
       "      <td>20171130</td>\n",
       "      <td>INT</td>\n",
       "      <td>5.18</td>\n",
       "      <td>1</td>\n",
       "      <td>5.3048</td>\n",
       "    </tr>\n",
       "    <tr>\n",
       "      <th>3</th>\n",
       "      <td>6551</td>\n",
       "      <td>1</td>\n",
       "      <td>20171128</td>\n",
       "      <td>INT</td>\n",
       "      <td>5.18</td>\n",
       "      <td>1</td>\n",
       "      <td>5.3048</td>\n",
       "    </tr>\n",
       "    <tr>\n",
       "      <th>4</th>\n",
       "      <td>6552</td>\n",
       "      <td>1</td>\n",
       "      <td>20171128</td>\n",
       "      <td>INT</td>\n",
       "      <td>5.18</td>\n",
       "      <td>1</td>\n",
       "      <td>5.3048</td>\n",
       "    </tr>\n",
       "  </tbody>\n",
       "</table>\n",
       "</div>"
      ],
      "text/plain": [
       "   ts_operacion  ts_dividendo  ts_fecha ts_concepto  ts_porcentaje  ts_secuencial  ts_porcentaje_efa\n",
       "0          6544             1  20171013         INT           5.27              1             5.3992\n",
       "1          6549             1  20171130         INT           5.18              1             5.3048\n",
       "2          6550             1  20171130         INT           5.18              1             5.3048\n",
       "3          6551             1  20171128         INT           5.18              1             5.3048\n",
       "4          6552             1  20171128         INT           5.18              1             5.3048"
      ]
     },
     "execution_count": 8,
     "metadata": {},
     "output_type": "execute_result"
    }
   ],
   "source": [
    "df_18.head(5)"
   ]
  },
  {
   "cell_type": "code",
   "execution_count": null,
   "id": "cbe53357",
   "metadata": {},
   "outputs": [
    {
     "name": "stdout",
     "output_type": "stream",
     "text": [
      "Empty DataFrame\n",
      "Columns: [ts_operacion, campo_error]\n",
      "Index: []\n"
     ]
    }
   ],
   "source": [
    "\n",
    "\n",
    "# Cargar archivo CSV\n",
    "df_22 = df_18\n",
    "\n",
    "# Lista para errores\n",
    "    errores = []\n",
    "\n",
    "    # Validaciones\n",
    "\n",
    "    # ts_operacion: NO NULL y ≠ 0\n",
    "    val = df_22[\"ts_operacion\"].isnull() | (df_22[\"ts_operacion\"] == 0)\n",
    "    errores.append(df_22[val][[\"ts_operacion\"]].assign(campo_error=\"ts_operacion\"))\n",
    "\n",
    "    # ts_dividendo: NO NULL\n",
    "    val = df_22[\"ts_dividendo\"].isnull()\n",
    "    errores.append(df_22[val][[\"ts_operacion\"]].assign(campo_error=\"ts_dividendo\"))\n",
    "\n",
    "# ts_fecha: NO NULL\n",
    "val = df_22[\"ts_fecha\"].isnull()\n",
    "errores.append(df_22[val][[\"ts_operacion\"]].assign(campo_error=\"ts_fecha\"))\n",
    "\n",
    "# ts_concepto: NO NULL y válido (\"INT\", \"IMO\")\n",
    "val = df_22[\"ts_concepto\"].isnull() | ~df_22[\"ts_concepto\"].isin([\"INT\", \"IMO\"])\n",
    "errores.append(df_22[val][[\"ts_operacion\"]].assign(campo_error=\"ts_concepto\"))\n",
    "\n",
    "# ts_porcentaje: NO NULL\n",
    "val = df_22[\"ts_porcentaje\"].isnull()\n",
    "errores.append(df_22[val][[\"ts_operacion\"]].assign(campo_error=\"ts_porcentaje\"))\n",
    "\n",
    "# ts_secuencial: NO NULL\n",
    "val = df_22[\"ts_secuencial\"].isnull()\n",
    "errores.append(df_22[val][[\"ts_operacion\"]].assign(campo_error=\"ts_secuencial\"))\n",
    "\n",
    "# ts_porcentaje_efa: NO NULL\n",
    "val = (\n",
    "    df_22[\"ts_porcentaje_efa\"].isnull() |\n",
    "    (~df_22[\"ts_concepto\"].isin([\"INT\", \"IMO\"]) & (df_22[\"ts_porcentaje_efa\"] != 0))\n",
    ")\n",
    "errores.append(df_22[val][[\"ts_operacion\"]].assign(campo_error=\"ts_porcentaje_efa\"))\n",
    "# Concatenar errores\n",
    "df_errores_22 = pd.concat(errores, ignore_index=True)\n",
    "\n",
    "# Mostrar los errores únicos\n",
    "print(df_errores_22.drop_duplicates())\n"
   ]
  },
  {
   "cell_type": "code",
   "execution_count": 13,
   "id": "0c2bf379",
   "metadata": {},
   "outputs": [
    {
     "data": {
      "text/plain": [
       "(1572034, 7)"
      ]
     },
     "execution_count": 13,
     "metadata": {},
     "output_type": "execute_result"
    }
   ],
   "source": [
    "df_22 = df_22[~df_22[\"ts_operacion\"].isin(df_errores_22[\"ts_operacion\"])]\n",
    "\n",
    "#fecha_formateada = pd.Timestamp.now().strftime(\"%Y%m%d%H%M%S\")\n",
    "\n",
    "df_22.shape"
   ]
  }
 ],
 "metadata": {
  "kernelspec": {
   "display_name": "base",
   "language": "python",
   "name": "python3"
  },
  "language_info": {
   "codemirror_mode": {
    "name": "ipython",
    "version": 3
   },
   "file_extension": ".py",
   "mimetype": "text/x-python",
   "name": "python",
   "nbconvert_exporter": "python",
   "pygments_lexer": "ipython3",
   "version": "3.12.7"
  }
 },
 "nbformat": 4,
 "nbformat_minor": 5
}
