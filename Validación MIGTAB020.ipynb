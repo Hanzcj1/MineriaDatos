{
 "cells": [
  {
   "cell_type": "code",
   "execution_count": 22,
   "id": "f4029613",
   "metadata": {},
   "outputs": [],
   "source": [
    "import pandas as pd\n",
    "from datetime import datetime\n",
    "from calendar import monthrange\n",
    "\n",
    "df_18 = pd.read_csv('../MIGTABO20X.csv',sep=\"|\")\n",
    "df_columns_18 = pd.read_csv('Campos MIGTAB020.csv',sep=\";\")\n",
    "df_18.drop('Unnamed: 16',axis=1,inplace= True)\n",
    "df_18.columns = df_columns_18['NombreColumna'].tolist()\n",
    "\n",
    "pd.set_option('display.max_rows', None)\n",
    "pd.set_option('display.max_columns', None)\n",
    "pd.set_option('display.expand_frame_repr', False)"
   ]
  },
  {
   "cell_type": "code",
   "execution_count": 23,
   "id": "6bd66c21",
   "metadata": {},
   "outputs": [
    {
     "name": "stdout",
     "output_type": "stream",
     "text": [
      "🔴 Se encontraron errores:\n",
      "   di_operacion                   campo_error\n",
      "0          5001  di_dividendo (falta cuota 1)\n"
     ]
    }
   ],
   "source": [
    "\n",
    "# Asignar tu DataFrame\n",
    "df = df_18\n",
    "errores = []\n",
    "\n",
    "# Validación: di_operacion NO NULL y ≠ 0\n",
    "df[\"di_operacion\"] = pd.to_numeric(df[\"di_operacion\"], errors=\"coerce\")\n",
    "val = df[\"di_operacion\"].isnull() | (df[\"di_operacion\"] == 0)\n",
    "errores.append(df[val][[\"di_operacion\"]].assign(campo_error=\"di_operacion\"))\n",
    "\n",
    "# Validación: di_dividendo NO NULL\n",
    "val = df[\"di_dividendo\"].isnull()\n",
    "errores.append(df[val][[\"di_operacion\"]].assign(campo_error=\"di_dividendo\"))\n",
    "\n",
    "# Validación extra: cada di_operacion debe tener al menos un di_dividendo == 1\n",
    "operaciones_con_dividendo_1 = df.groupby(\"di_operacion\")[\"di_dividendo\"].min() == 1\n",
    "operaciones_invalidas = operaciones_con_dividendo_1[~operaciones_con_dividendo_1].index\n",
    "errores_dividendo = df[df[\"di_operacion\"].isin(operaciones_invalidas)][[\"di_operacion\"]].drop_duplicates()\n",
    "errores_dividendo = errores_dividendo.assign(campo_error=\"di_dividendo (falta cuota 1)\")\n",
    "errores.append(errores_dividendo)\n",
    "\n",
    "# Validación: di_fecha_ini NO NULL\n",
    "val = df[\"di_fecha_ini\"].isnull()\n",
    "errores.append(df[val][[\"di_operacion\"]].assign(campo_error=\"di_fecha_ini\"))\n",
    "\n",
    "# Validación: di_fecha_ven NO NULL\n",
    "val = df[\"di_fecha_ven\"].isnull()\n",
    "errores.append(df[val][[\"di_operacion\"]].assign(campo_error=\"di_fecha_ven\"))\n",
    "\n",
    "# Validación: di_de_capital ∈ [\"S\", \"N\"]\n",
    "val = ~df[\"di_de_capital\"].isin([\"S\", \"N\"])\n",
    "errores.append(df[val][[\"di_operacion\"]].assign(campo_error=\"di_de_capital\"))\n",
    "\n",
    "# Validación: di_de_interes ∈ [\"S\", \"N\"]\n",
    "val = ~df[\"di_de_interes\"].isin([\"S\", \"N\"])\n",
    "errores.append(df[val][[\"di_operacion\"]].assign(campo_error=\"di_de_interes\"))\n",
    "\n",
    "# Validación: di_gracia NO NULL y numérico\n",
    "val = df[\"di_gracia\"].isnull() | ~df[\"di_gracia\"].astype(str).str.isnumeric()\n",
    "errores.append(df[val][[\"di_operacion\"]].assign(campo_error=\"di_gracia\"))\n",
    "\n",
    "# Validación: di_gracia_disp NO NULL\n",
    "val = df[\"di_gracia_disp\"].isnull()\n",
    "errores.append(df[val][[\"di_operacion\"]].assign(campo_error=\"di_gracia_disp\"))\n",
    "\n",
    "# Validación: di_estado ∈ [0, 1, 2, 3]\n",
    "val = df[\"di_estado\"].isnull() | ~df[\"di_estado\"].isin([0, 1, 2, 3])\n",
    "errores.append(df[val][[\"di_operacion\"]].assign(campo_error=\"di_estado\"))\n",
    "\n",
    "# Validación: di_dias_cuota NO NULL\n",
    "val = df[\"di_dias_cuota\"].isnull()\n",
    "errores.append(df[val][[\"di_operacion\"]].assign(campo_error=\"di_dias_cuota\"))\n",
    "\n",
    "# Validación: di_intento == 0\n",
    "val = df[\"di_intento\"].isnull() | (df[\"di_intento\"] != 0)\n",
    "errores.append(df[val][[\"di_operacion\"]].assign(campo_error=\"di_intento\"))\n",
    "\n",
    "# Validación: di_prorroga ∈ [\"S\", \"N\"]\n",
    "val = df[\"di_prorroga\"].isnull() | ~df[\"di_prorroga\"].isin([\"S\", \"N\"])\n",
    "errores.append(df[val][[\"di_operacion\"]].assign(campo_error=\"di_prorroga\"))\n",
    "\n",
    "# Validación: di_subs_cuota NO NULL\n",
    "val = df[\"di_subs_cuota\"].isnull()\n",
    "errores.append(df[val][[\"di_operacion\"]].assign(campo_error=\"di_subs_cuota\"))\n",
    "\n",
    "# Validación: di_subs_acumulado NO NULL\n",
    "val = df[\"di_subs_acumulado\"].isnull()\n",
    "errores.append(df[val][[\"di_operacion\"]].assign(campo_error=\"di_subs_acumulado\"))\n",
    "\n",
    "# Concatenar todos los errores\n",
    "df_errores = pd.concat(errores, ignore_index=True)\n",
    "\n",
    "# Mostrar errores si existen\n",
    "if df_errores.empty:\n",
    "    print(\"✅ Todos los datos son válidos\")\n",
    "else:\n",
    "    print(\"🔴 Se encontraron errores:\")\n",
    "    print(df_errores)\n",
    "\n",
    "\n"
   ]
  },
  {
   "cell_type": "code",
   "execution_count": 28,
   "id": "8c3b0b7e",
   "metadata": {},
   "outputs": [],
   "source": [
    "df_20 = df[~df[\"di_operacion\"].isin(df_errores[\"di_operacion\"])]\n",
    "\n",
    "fecha_formateada = pd.Timestamp.now().strftime(\"%Y%m%d%H%M%S\")"
   ]
  }
 ],
 "metadata": {
  "kernelspec": {
   "display_name": "base",
   "language": "python",
   "name": "python3"
  },
  "language_info": {
   "codemirror_mode": {
    "name": "ipython",
    "version": 3
   },
   "file_extension": ".py",
   "mimetype": "text/x-python",
   "name": "python",
   "nbconvert_exporter": "python",
   "pygments_lexer": "ipython3",
   "version": "3.12.7"
  }
 },
 "nbformat": 4,
 "nbformat_minor": 5
}
