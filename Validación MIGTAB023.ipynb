{
 "cells": [
  {
   "cell_type": "code",
   "execution_count": 1,
   "id": "e5fbc0cc",
   "metadata": {},
   "outputs": [],
   "source": [
    "import pandas as pd\n",
    "\n",
    "df_18 = pd.read_csv('MIGTAB023.csv',sep=\"|\")\n",
    "df_columns_18 = pd.read_csv('Campos MIGTAB023.csv',sep=\";\")\n",
    "df_18.drop('Unnamed: 3',axis=1,inplace= True)\n",
    "df_18.columns = df_columns_18['NombreColumna'].tolist()\n",
    "\n",
    "pd.set_option('display.max_rows', None)\n",
    "pd.set_option('display.max_columns', None)\n",
    "pd.set_option('display.expand_frame_repr', False)"
   ]
  },
  {
   "cell_type": "code",
   "execution_count": 2,
   "id": "066ce5f5",
   "metadata": {},
   "outputs": [
    {
     "data": {
      "text/html": [
       "<div>\n",
       "<style scoped>\n",
       "    .dataframe tbody tr th:only-of-type {\n",
       "        vertical-align: middle;\n",
       "    }\n",
       "\n",
       "    .dataframe tbody tr th {\n",
       "        vertical-align: top;\n",
       "    }\n",
       "\n",
       "    .dataframe thead th {\n",
       "        text-align: right;\n",
       "    }\n",
       "</style>\n",
       "<table border=\"1\" class=\"dataframe\">\n",
       "  <thead>\n",
       "    <tr style=\"text-align: right;\">\n",
       "      <th></th>\n",
       "      <th>NombreColumna</th>\n",
       "      <th>CantidadNulos</th>\n",
       "    </tr>\n",
       "  </thead>\n",
       "  <tbody>\n",
       "  </tbody>\n",
       "</table>\n",
       "</div>"
      ],
      "text/plain": [
       "Empty DataFrame\n",
       "Columns: [NombreColumna, CantidadNulos]\n",
       "Index: []"
      ]
     },
     "execution_count": 2,
     "metadata": {},
     "output_type": "execute_result"
    }
   ],
   "source": [
    "df_columnasObligatorias = df_columns_18[df_columns_18['Obligatorio'] == 'S']['NombreColumna'].tolist()\n",
    "df_Final = df_18[df_columnasObligatorias]\n",
    "#df_Final.shape\n",
    "nulos = df_Final.isnull().sum().reset_index()\n",
    "nulos.columns = ['NombreColumna','CantidadNulos']\n",
    "df_Columnas = nulos[nulos['CantidadNulos']> 0 ]['NombreColumna'].head(4).tolist()\n",
    "nulos[nulos['CantidadNulos']> 0 ]"
   ]
  }
 ],
 "metadata": {
  "kernelspec": {
   "display_name": "base",
   "language": "python",
   "name": "python3"
  },
  "language_info": {
   "codemirror_mode": {
    "name": "ipython",
    "version": 3
   },
   "file_extension": ".py",
   "mimetype": "text/x-python",
   "name": "python",
   "nbconvert_exporter": "python",
   "pygments_lexer": "ipython3",
   "version": "3.12.7"
  }
 },
 "nbformat": 4,
 "nbformat_minor": 5
}
