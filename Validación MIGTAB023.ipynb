{
 "cells": [
  {
   "cell_type": "code",
   "execution_count": 3,
   "id": "e5fbc0cc",
   "metadata": {},
   "outputs": [],
   "source": [
    "import pandas as pd\n",
    "\n",
    "df_18 = pd.read_csv('../MIGTABO23X.csv',sep=\"|\")\n",
    "df_columns_18 = pd.read_csv('Campos MIGTAB023.csv',sep=\";\")\n",
    "df_18.drop('Unnamed: 3',axis=1,inplace= True)\n",
    "df_18.columns = df_columns_18['NombreColumna'].tolist()\n",
    "\n",
    "pd.set_option('display.max_rows', None)\n",
    "pd.set_option('display.max_columns', None)\n",
    "pd.set_option('display.expand_frame_repr', False)"
   ]
  },
  {
   "cell_type": "code",
   "execution_count": 7,
   "id": "77ca297b",
   "metadata": {},
   "outputs": [
    {
     "name": "stdout",
     "output_type": "stream",
     "text": [
      "Empty DataFrame\n",
      "Columns: [ca_banco, campo_error]\n",
      "Index: []\n"
     ]
    }
   ],
   "source": [
    "import pandas as pd\n",
    "\n",
    "# Cargar el archivo CSV\n",
    "df_23 = df_18\n",
    "\n",
    "# Lista para acumular errores\n",
    "errores = []\n",
    "\n",
    "# Validación 1: Número de crédito (cd_numero_credito) - NO NULL y ≠ 0\n",
    "val = df_23[\"ca_banco\"].isnull() | (df_23[\"ca_banco\"] == 0)\n",
    "errores.append(df_23[val][[\"ca_banco\"]].assign(campo_error=\"ca_banco\"))\n",
    "\n",
    "# Validación 2: Código persona (codeudor) (cd_codigo_persona) - NO NULL y ≠ 0\n",
    "val = df_23[\"ca_cliente\"].isnull() | (df_23[\"ca_cliente\"] == 0)\n",
    "errores.append(df_23[val][[\"ca_banco\"]].assign(campo_error=\"ca_cliente\"))\n",
    "\n",
    "# Validación 3: Rol (cd_rol) - debe ser \"C\" o NULL (si no es obligatorio)\n",
    "val = df_23[\"ca_rol\"].notnull() & (df_23[\"ca_rol\"] != \"C\")\n",
    "errores.append(df_23[val][[\"ca_banco\"]].assign(campo_error=\"ca_rol\"))\n",
    "\n",
    "# Concatenar errores\n",
    "df_errores_23 = pd.concat(errores, ignore_index=True)\n",
    "\n",
    "# Mostrar los errores únicos\n",
    "print(df_errores_23.drop_duplicates())\n"
   ]
  },
  {
   "cell_type": "code",
   "execution_count": 9,
   "id": "eb72f99e",
   "metadata": {},
   "outputs": [],
   "source": [
    "df_23 = df_23[~df_23[\"ca_banco\"].isin(df_errores_23[\"ca_banco\"])]\n"
   ]
  }
 ],
 "metadata": {
  "kernelspec": {
   "display_name": "base",
   "language": "python",
   "name": "python3"
  },
  "language_info": {
   "codemirror_mode": {
    "name": "ipython",
    "version": 3
   },
   "file_extension": ".py",
   "mimetype": "text/x-python",
   "name": "python",
   "nbconvert_exporter": "python",
   "pygments_lexer": "ipython3",
   "version": "3.12.7"
  }
 },
 "nbformat": 4,
 "nbformat_minor": 5
}
